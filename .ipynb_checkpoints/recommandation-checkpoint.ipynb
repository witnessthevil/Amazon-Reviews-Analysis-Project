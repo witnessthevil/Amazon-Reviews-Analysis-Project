{
 "cells": [
  {
   "cell_type": "code",
   "execution_count": null,
   "id": "382267b8-cd0d-47c8-ad01-b914b990bd53",
   "metadata": {},
   "outputs": [],
   "source": [
    "from pyspark.sql import SparkSession\n",
    "spark = SparkSession.builder.appName('inreality').getOrCreate()\n",
    "\n",
    "server_name = \"jdbc:sqlserver://inreality.database.windows.net:1433\"\n",
    "database_name = \"data\"\n",
    "url = server_name + \";\" + \"databaseName=\" + database_name + \";\"\n",
    "\n",
    "table_name = \"dbo.review\"\n",
    "username = \"witnessthevil\"\n",
    "password = \"Uttalogical00!\" # Please specify password here\n",
    "\n",
    "jdbcDF = spark.read \\\n",
    "        .format(\"com.microsoft.sqlserver.jdbc.spark\") \\\n",
    "        .option(\"url\", url) \\\n",
    "        .option(\"dbtable\", table_name) \\\n",
    "        .option(\"user\", username) \\\n",
    "        .option(\"password\", password)\\\n",
    "        .load()\n"
   ]
  },
  {
   "cell_type": "code",
   "execution_count": null,
   "id": "4b2bf02f-0d94-42f7-b61c-673b779c0472",
   "metadata": {},
   "outputs": [],
   "source": [
    "df = jdbcDF.toPandas()\n",
    "experimentDF = df[['prodcut_name','reviewerName','overall']]\n",
    "display(experimentDF)"
   ]
  },
  {
   "cell_type": "code",
   "execution_count": null,
   "id": "c7636b9f-a53e-42f8-b91c-68cb65f581f4",
   "metadata": {},
   "outputs": [],
   "source": [
    "import pandas as pd\n",
    "\n",
    "pivot_product_df = pd.pivot_table(experimentDF, index=['prodcut_name'],columns=['reviewerName'],values=['overall'],fill_value=0)\n",
    "pivot_product_df_numpy = pd.pivot_table(experimentDF, index=['prodcut_name'],columns=['reviewerName'],values=['overall'],fill_value=0).to_numpy()\n",
    "pivot_user_df = pd.pivot_table(experimentDF, index=['reviewerName'],columns=['prodcut_name'],values=['overall'],fill_value=0)\n",
    "pivot_user_df_numpy = pd.pivot_table(experimentDF, index=['reviewerName'],columns=['prodcut_name'],values=['overall'],fill_value=0).to_numpy()"
   ]
  },
  {
   "cell_type": "code",
   "execution_count": null,
   "id": "e0a8c7fe-63d3-4b01-b2ed-7e7e2b3e8d58",
   "metadata": {},
   "outputs": [],
   "source": [
    "import numpy as np\n",
    "print(pivot_product_df_numpy.shape)\n",
    "print(pivot_user_df_numpy.shape)"
   ]
  },
  {
   "cell_type": "code",
   "execution_count": null,
   "id": "592a32cc-66c0-4ea3-a53c-bafa13756187",
   "metadata": {},
   "outputs": [],
   "source": [
    "train_product = pivot_product_df_numpy[:,:int(2734 * 0.8)]\n",
    "test_product = pivot_product_df_numpy[:,int(2734 * 0.2):]\n",
    "train_user = pivot_user_df_numpy[:,:int(2112 * 0.8)]\n",
    "test_user = pivot_user_df_numpy[:,int(2112 * 0.2):]"
   ]
  },
  {
   "cell_type": "code",
   "execution_count": null,
   "id": "f60687bf-09a9-44da-ba70-7be2680f9bb7",
   "metadata": {},
   "outputs": [],
   "source": [
    "from sklearn.decomposition import TruncatedSVD\n",
    "product_svd = TruncatedSVD(n_components=10)\n",
    "product_features = product_svd.fit_transform(train_product)\n",
    "user_svd = TruncatedSVD(n_components=10)\n",
    "user_features = user_svd.fit_transform(train_user)"
   ]
  },
  {
   "cell_type": "code",
   "execution_count": null,
   "id": "6fa67868-416d-48ae-8cfc-63ddf25a0a07",
   "metadata": {},
   "outputs": [],
   "source": [
    "print(product_features.shape) \n",
    "print(user_features.shape)\n",
    "\n",
    "print(product_features)"
   ]
  },
  {
   "cell_type": "code",
   "execution_count": null,
   "id": "a66620bb-6d7a-4b64-8940-8068b77e8c73",
   "metadata": {},
   "outputs": [],
   "source": [
    "corr_between_diff_product = np.corrcoef(product_features)\n",
    "corr_fifa = corr_between_diff_product[1089]\n",
    "recommand = list(pivot_product_df.index[corr_fifa>0.7])\n",
    "recommand.remove('Lego Star Wars: The Complete Saga - Xbox 360')\n",
    "print(recommand[:10])"
   ]
  },
  {
   "cell_type": "code",
   "execution_count": null,
   "id": "f7fde768-9514-4163-ac7c-37405a5bc9dd",
   "metadata": {},
   "outputs": [],
   "source": [
    "from sklearn.manifold import TSNE\n",
    "import matplotlib.pyplot as plt\n",
    "%matplotlib inline\n",
    "tsne = TSNE(init='pca')\n",
    "plt.figure(figsize=(100, 100))\n",
    "coordination = tsne.fit_transform(product_features[:,:])\n",
    "labels = [productname for productname in list(pivot_product_df.index)]\n",
    "for i, label in enumerate(labels):\n",
    "    x, y = coordination[i, :]\n",
    "    plt.scatter(x, y)\n",
    "    plt.annotate(label,\n",
    "                 xy=(x, y),\n",
    "                 xytext=(10, 4),\n",
    "                 textcoords=\"offset points\",\n",
    "                 ha=\"right\",\n",
    "                 va=\"bottom\")\n",
    "plt.show()"
   ]
  }
 ],
 "metadata": {
  "kernelspec": {
   "display_name": "Python 3.10.7 64-bit",
   "language": "python",
   "name": "python3"
  },
  "language_info": {
   "codemirror_mode": {
    "name": "ipython",
    "version": 3
   },
   "file_extension": ".py",
   "mimetype": "text/x-python",
   "name": "python",
   "nbconvert_exporter": "python",
   "pygments_lexer": "ipython3",
   "version": "3.7.0"
  },
  "vscode": {
   "interpreter": {
    "hash": "aee8b7b246df8f9039afb4144a1f6fd8d2ca17a180786b69acc140d282b71a49"
   }
  }
 },
 "nbformat": 4,
 "nbformat_minor": 5
}
