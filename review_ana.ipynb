{
 "cells": [
  {
   "cell_type": "code",
   "execution_count": null,
   "metadata": {
    "tags": []
   },
   "outputs": [],
   "source": [
    "from textblob import TextBlob\n",
    "import pandas as pd\n",
    "import sqlalchemy\n",
    "#import pyodbc"
   ]
  },
  {
   "cell_type": "code",
   "execution_count": null,
   "metadata": {
    "tags": []
   },
   "outputs": [],
   "source": [
    "from pyspark.sql import SparkSession\n",
    "spark = SparkSession.builder.appName('inreality').config('spark.jars.packages','com.microsoft.azure:spark-mssql-connector_2.12:1.2.0').getOrCreate()\n",
    "\n",
    "server_name = \"jdbc:sqlserver://inreality.database.windows.net:1433\"\n",
    "database_name = \"data\"\n",
    "url = server_name + \";\" + \"databaseName=\" + database_name + \";\"\n",
    "\n",
    "table_name = \"dbo.review\"\n",
    "username = \"\"\n",
    "password = \"\" # Please specify password here\n",
    "\n",
    "jdbcDF = spark.read \\\n",
    "        .format(\"com.microsoft.sqlserver.jdbc.spark\") \\\n",
    "        .option(\"url\", url) \\\n",
    "        .option(\"dbtable\", table_name) \\\n",
    "        .option(\"user\", username) \\\n",
    "        .option(\"password\", password)\\\n",
    "        .option(\"driver\", \"com.microsoft.sqlserver.jdbc.SQLServerDriver\")\\\n",
    "        .load()\n",
    "jdbcDF.show()"
   ]
  },
  {
   "cell_type": "code",
   "execution_count": null,
   "metadata": {},
   "outputs": [],
   "source": [
    "\n",
    "from pyspark.sql.types import *\n",
    "from pyspark.sql.functions import col\n",
    "short_df = jdbcDF.select('prodcut_name','reviewText','summary')"
   ]
  },
  {
   "cell_type": "code",
   "execution_count": null,
   "metadata": {},
   "outputs": [],
   "source": [
    "import nltk\n",
    "from nltk.corpus import stopwords\n",
    "from nltk.tokenize import word_tokenize, sent_tokenize\n",
    "from nltk import pos_tag_sents\n",
    " #   return list_words\n",
    "panda_df = short_df.toPandas()\n",
    "yes = panda_df['reviewText'].tolist()\n",
    "list = [str(i) for i in yes]\n",
    "tagged_texts = pos_tag_sents(map(word_tokenize, list))"
   ]
  },
  {
   "cell_type": "code",
   "execution_count": null,
   "metadata": {},
   "outputs": [],
   "source": [
    "panda_df['pos'] = tagged_texts\n",
    "def finding_adj(text):\n",
    "    adj_list = [word_pair[0] for word_pair in text if word_pair[1] == 'JJ' and TextBlob(word_pair[0]).sentiment[0] != 0 and TextBlob(word_pair[0]).sentiment[1] != 0]\n",
    "    return adj_list\n",
    "panda_df['adj'] = panda_df['pos'].apply(finding_adj)"
   ]
  },
  {
   "cell_type": "code",
   "execution_count": null,
   "metadata": {},
   "outputs": [],
   "source": [
    "import re\n",
    "adj_df = panda_df[['prodcut_name','adj']]\n",
    "# We want to the prouct name to be a particular column, so we need to use index=False to avoid turing them into column\n",
    "adj_groupby_df = adj_df.groupby('prodcut_name',as_index=False).sum()\n",
    "\n",
    "def word_cleansing(wordlist):\n",
    "    new_wordlist = [re.sub(\"[+.-]\",'',word.lower()) for word in wordlist]\n",
    "    return new_wordlist\n",
    "adj_groupby_df['adj'] = adj_groupby_df['adj'].apply(word_cleansing)\n",
    "display(adj_groupby_df)"
   ]
  },
  {
   "cell_type": "code",
   "execution_count": null,
   "metadata": {},
   "outputs": [],
   "source": [
    "from collections import OrderedDict\n",
    "def reduce_map_on_counting_word_appearance(wordlist):\n",
    "    order_dict = {}\n",
    "    for word in wordlist:\n",
    "        if word not in order_dict.keys():\n",
    "            order_dict[word] = 1 \n",
    "        else:\n",
    "            order_dict[word] += 1\n",
    "    count_desc_dict = sorted(order_dict.items(),key=lambda x:x[1],reverse=True)\n",
    "    return count_desc_dict[:10]\n",
    "\n",
    "def getting_word(text):\n",
    "    return text[0]\n",
    "def getting_number(text):\n",
    "    return text[1]\n",
    "\n",
    "adj_groupby_df['adj_count'] = adj_groupby_df['adj'].apply(reduce_map_on_counting_word_appearance)\n",
    "final_adj_group_df = adj_groupby_df[['prodcut_name','adj_count']]\n",
    "final_adj_explode_df = final_adj_group_df.explode('adj_count')\n",
    "final_adj_explode_df['word'] = final_adj_explode_df['adj_count'].apply(getting_word)\n",
    "final_adj_explode_df['appearance'] = final_adj_explode_df['adj_count'].apply(getting_number)\n",
    "final_adj_df = final_adj_explode_df.drop(columns=['adj_count'],axis=1)\n",
    "final_adj_df.head(10)"
   ]
  },
  {
   "cell_type": "code",
   "execution_count": null,
   "metadata": {},
   "outputs": [],
   "source": [
    "adj_df_spark = spark.createDataFrame(final_adj_df)\n",
    "adj_df_table_name = 'dbo.game_adj_top_5'\n",
    "adj_df_spark.write \\\n",
    "    .format(\"com.microsoft.sqlserver.jdbc.spark\") \\\n",
    "    .mode(\"overwrite\") \\\n",
    "    .option(\"url\", url) \\\n",
    "    .option(\"dbtable\", adj_df_table_name) \\\n",
    "    .option(\"user\", username) \\\n",
    "    .option(\"password\", password) \\\n",
    "    .save()"
   ]
  },
  {
   "cell_type": "code",
   "execution_count": null,
   "metadata": {},
   "outputs": [],
   "source": [
    "def get_ploarity(text):\n",
    "    blob = TextBlob(text)\n",
    "    plority = blob.sentiment[0]\n",
    "    return plority \n",
    "spark_df = short_df.toPandas()\n",
    "spark_df['score'] = spark_df['reviewText'].apply(get_ploarity)\n",
    "group_df = spark_df.groupby('prodcut_name',as_index=False).mean().sort_values(by='score', ascending=True)"
   ]
  },
  {
   "cell_type": "code",
   "execution_count": null,
   "metadata": {},
   "outputs": [],
   "source": [
    "group_df_spark = spark.createDataFrame(group_df)\n",
    "group_df_table_name = 'dbo.product_polarity_score'\n",
    "group_df_spark.write \\\n",
    "    .format(\"com.microsoft.sqlserver.jdbc.spark\") \\\n",
    "    .mode(\"overwrite\") \\\n",
    "    .option(\"url\", url) \\\n",
    "    .option(\"dbtable\", group_df_table_name) \\\n",
    "    .option(\"user\", username) \\\n",
    "    .option(\"password\", password) \\\n",
    "    .save()"
   ]
  }
 ],
 "metadata": {
  "kernelspec": {
   "display_name": "Python 3.9.14 64-bit",
   "language": "python",
   "name": "python3"
  },
  "language_info": {
   "codemirror_mode": {
    "name": "ipython",
    "version": 3
   },
   "file_extension": ".py",
   "mimetype": "text/x-python",
   "name": "python",
   "nbconvert_exporter": "python",
   "pygments_lexer": "ipython3",
   "version": "3.9.14"
  },
  "vscode": {
   "interpreter": {
    "hash": "a665b5d41d17b532ea9890333293a1b812fa0b73c9c25c950b3cedf1bebd0438"
   }
  }
 },
 "nbformat": 4,
 "nbformat_minor": 4
}
